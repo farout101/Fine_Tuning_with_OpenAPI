{
 "cells": [
  {
   "cell_type": "markdown",
   "metadata": {},
   "source": [
    "## 6 Steps For Fine-Tuning OpenAI GPT Models"
   ]
  },
  {
   "cell_type": "code",
   "execution_count": null,
   "metadata": {},
   "outputs": [],
   "source": [
    "# Installing the openai library and setting up an API token\n",
    "%pip install openai"
   ]
  },
  {
   "cell_type": "markdown",
   "metadata": {},
   "source": [
    "### Set up the API key"
   ]
  },
  {
   "cell_type": "code",
   "execution_count": null,
   "metadata": {},
   "outputs": [],
   "source": [
    "import os\n",
    "import env\n",
    "import openai\n",
    "\n",
    "# Set the OPENAI_API_KEY environment variable\n",
    "openai.api_key = env.OPENAI_API_KEY"
   ]
  },
  {
   "cell_type": "markdown",
   "metadata": {},
   "source": [
    "### Upload the training file"
   ]
  },
  {
   "cell_type": "code",
   "execution_count": null,
   "metadata": {},
   "outputs": [],
   "source": [
    "# Upload the training file\n",
    "response = openai.File.create(\n",
    "  file=open(\"food_Suggestion.jsonl\", \"rb\"),\n",
    "  purpose=\"fine-tune\"\n",
    ")\n",
    "\n",
    "# Print the response to check the file upload status\n",
    "print(\"File Upload Response:\", response)"
   ]
  },
  {
   "cell_type": "markdown",
   "metadata": {},
   "source": [
    "### Create a fine-tuned model"
   ]
  },
  {
   "cell_type": "code",
   "execution_count": null,
   "metadata": {},
   "outputs": [],
   "source": [
    "fine_tune_response = openai.FineTuningJob.create(\n",
    "    training_file=response[\"id\"],\n",
    "    model=\"gpt-3.5-turbo\"  # Change to \"gpt-4-0613\" if you have access\n",
    ")\n",
    "\n",
    "# Print the fine-tuning job response\n",
    "print(\"Fine-Tuning Job Response:\", fine_tune_response)"
   ]
  },
  {
   "cell_type": "markdown",
   "metadata": {},
   "source": [
    "### Track the progress of the fine-tuning job"
   ]
  },
  {
   "cell_type": "code",
   "execution_count": null,
   "metadata": {},
   "outputs": [],
   "source": [
    "fine_tune_job_id = fine_tune_response[\"id\"]\n",
    "\n",
    "# Get fine-tuning job status\n",
    "status = openai.FineTuningJob.retrieve(fine_tune_job_id)\n",
    "\n",
    "# Print the fine-tuning job status\n",
    "print(\"Fine-Tuning Job Status:\", status)"
   ]
  }
 ],
 "metadata": {
  "kernelspec": {
   "display_name": "Python 3",
   "language": "python",
   "name": "python3"
  },
  "language_info": {
   "codemirror_mode": {
    "name": "ipython",
    "version": 3
   },
   "file_extension": ".py",
   "mimetype": "text/x-python",
   "name": "python",
   "nbconvert_exporter": "python",
   "pygments_lexer": "ipython3",
   "version": "3.12.2"
  }
 },
 "nbformat": 4,
 "nbformat_minor": 2
}
