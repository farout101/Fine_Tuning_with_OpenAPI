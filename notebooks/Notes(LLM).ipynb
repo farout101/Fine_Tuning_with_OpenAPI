{
 "cells": [
  {
   "cell_type": "markdown",
   "metadata": {},
   "source": [
    "## How to Fine-Tune an LLM Using OpenAI"
   ]
  },
  {
   "cell_type": "code",
   "execution_count": null,
   "metadata": {},
   "outputs": [],
   "source": [
    "#Pre-requisites\n",
    "%pip install datasets openai"
   ]
  },
  {
   "cell_type": "markdown",
   "metadata": {},
   "source": [
    "### Loading the Dataset"
   ]
  },
  {
   "cell_type": "code",
   "execution_count": null,
   "metadata": {},
   "outputs": [],
   "source": [
    "# from datasets import load_dataset\n",
    "\n",
    "# # Load your dataset from Hugging Face\n",
    "# dataset = load_dataset(\"lamini/lamini_docs\")"
   ]
  },
  {
   "cell_type": "markdown",
   "metadata": {},
   "source": [
    "### Exploring the Dataset\n",
    "Understanding your dataset is crucial before proceeding with fine-tuning. Let's take a look at the structure of our dataset:"
   ]
  },
  {
   "cell_type": "code",
   "execution_count": null,
   "metadata": {},
   "outputs": [],
   "source": [
    "# DatasetDict({\n",
    "#     train: Dataset({\n",
    "#         features: ['question', 'answer', 'input_ids', 'attention_mask', 'labels'],\n",
    "#         num_rows: 1260\n",
    "#     })\n",
    "#     test: Dataset({\n",
    "#         features: ['question', 'answer', 'input_ids', 'attention_mask', 'labels'],\n",
    "#         num_rows: 140\n",
    "#     })\n",
    "# })"
   ]
  }
 ],
 "metadata": {
  "kernelspec": {
   "display_name": "Python 3",
   "language": "python",
   "name": "python3"
  },
  "language_info": {
   "codemirror_mode": {
    "name": "ipython",
    "version": 3
   },
   "file_extension": ".py",
   "mimetype": "text/x-python",
   "name": "python",
   "nbconvert_exporter": "python",
   "pygments_lexer": "ipython3",
   "version": "3.12.2"
  }
 },
 "nbformat": 4,
 "nbformat_minor": 2
}
